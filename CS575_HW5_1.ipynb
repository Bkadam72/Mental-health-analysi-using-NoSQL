{
  "nbformat": 4,
  "nbformat_minor": 0,
  "metadata": {
    "colab": {
      "provenance": []
    },
    "kernelspec": {
      "name": "python3",
      "display_name": "Python 3"
    },
    "language_info": {
      "name": "python"
    }
  },
  "cells": [
    {
      "cell_type": "markdown",
      "source": [
        "## Requires\n",
        "1.   [matplotlib](https://matplotlib.org/): a visualization library\n",
        "2.   [numpy](https://numpy.org/): a numerical / scientific library\n",
        "\n",
        "### Easy mode\n",
        "Grab the awesome but large anaconda distribution which includes everything you will need [here](https://www.anaconda.com/products/distribution)."
      ],
      "metadata": {
        "id": "Wo15i7dPVvVF"
      }
    },
    {
      "cell_type": "code",
      "source": [
        "import time\n",
        "import math\n",
        "import matplotlib.pyplot as plt\n",
        "from numpy import random"
      ],
      "metadata": {
        "id": "k80OGxcJZ9z2"
      },
      "execution_count": null,
      "outputs": []
    },
    {
      "cell_type": "markdown",
      "source": [
        "## Caution\n",
        "You are not allowed to import any other libraries"
      ],
      "metadata": {
        "id": "m_IO3kTgYIbN"
      }
    },
    {
      "cell_type": "markdown",
      "source": [],
      "metadata": {
        "id": "bf1GMB_ZYR9I"
      }
    },
    {
      "cell_type": "markdown",
      "source": [
        "# Inputs, Outputs, I/O"
      ],
      "metadata": {
        "id": "6lFCubMfYgqh"
      }
    },
    {
      "cell_type": "code",
      "execution_count": null,
      "metadata": {
        "id": "ZYPeltl32G9i"
      },
      "outputs": [],
      "source": [
        "## create files\n",
        "\n",
        "def makeInputs(low=0, high=1000000, size, num_instances=100):\n",
        "  \"\"\"\n",
        "  Generate <num_instances> instances of the sorting problem,\n",
        "  each with <size> number of integers,\n",
        "  and saves them.\n",
        "  Instance <i> with <size> integers is stored as\n",
        "  filename 'instance_<size>_<i>'\n",
        "  \"\"\"\n",
        "  for i in range(num_instances):\n",
        "    instance = makeInstance(low=low, high=high, size=size)\n",
        "    with open(f'instance_{size}_{i}', 'w') as f:\n",
        "      \"\"\"\n",
        "      TODO: Complete this\n",
        "      \"\"\"\n",
        "\n",
        "def makeInstance(low=0, high=1000000, size):\n",
        "  \"\"\"\n",
        "  Generate a list of <size> integers selected uniformly at random\n",
        "  from the integers between <low> and <high>\n",
        "  \"\"\"\n",
        "  lst = np.random.randint(low=low, high=high, size=size).tolist()\n",
        "  return lst\n",
        "\n",
        "\n",
        "\"\"\"\n",
        "TODO: Write functions to read the input files\n",
        "\"\"\""
      ]
    },
    {
      "cell_type": "markdown",
      "source": [
        "## TODO\n",
        "Create 100 inputs of each size 100, 200, ..., 10,000"
      ],
      "metadata": {
        "id": "OtPsWd6Gdt31"
      }
    },
    {
      "cell_type": "markdown",
      "source": [
        "# Implement Sorting Algorithms"
      ],
      "metadata": {
        "id": "9pQeXPE3b4MS"
      }
    },
    {
      "cell_type": "markdown",
      "source": [
        "## Implement Merge Sort"
      ],
      "metadata": {
        "id": "AFdYhwbwdXMP"
      }
    },
    {
      "cell_type": "code",
      "source": [
        "def mergeSort(lst):\n",
        "  '''TODO: Implement the Merge Sort algorithm'''\n",
        "  raise NotImplementedError"
      ],
      "metadata": {
        "id": "6bVBpWEpaYue"
      },
      "execution_count": null,
      "outputs": []
    },
    {
      "cell_type": "markdown",
      "source": [
        "## Implement Quick Sort"
      ],
      "metadata": {
        "id": "SFPnBdFqdZp8"
      }
    },
    {
      "cell_type": "code",
      "source": [
        "def quickSort(lst):\n",
        "  '''TODO: Implement the Quick Sort algorithm'''\n",
        "  raise NotImplementedError"
      ],
      "metadata": {
        "id": "rgQ738v5e_rr"
      },
      "execution_count": null,
      "outputs": []
    },
    {
      "cell_type": "markdown",
      "source": [
        "# Experiments"
      ],
      "metadata": {
        "id": "pgH5dxbZdevP"
      }
    },
    {
      "cell_type": "markdown",
      "source": [
        "## Run experiments as a batch"
      ],
      "metadata": {
        "id": "JieVr8QTdh6z"
      }
    },
    {
      "cell_type": "code",
      "source": [
        "def sortRun(data, sort):\n",
        "  \"\"\"\n",
        "  TODO: Measure the running time of the function <sort> on inputs <data>\n",
        "  Inputs:\n",
        "    data: a list consisting of lists, each of which is an unsorted list of numbers\n",
        "    sort: a function that takes a list of unsorted numbers as input\n",
        "          e.g. your implementations of merge sort and quick sort\n",
        "  Output:\n",
        "    a list of running times, each element is the running time of the function sort\n",
        "    on the corresponding list in data\n",
        "  \"\"\"\n",
        "  times = []\n",
        "\n",
        "  for lst in data:\n",
        "    start_time = time.time()\n",
        "    sort(lst)\n",
        "    runtime = (time.time() - start_time)\n",
        "    times.append(runtime)\n",
        "  return times"
      ],
      "metadata": {
        "id": "7dU6_aTiYtT6"
      },
      "execution_count": null,
      "outputs": []
    },
    {
      "cell_type": "code",
      "source": [
        "\"\"\"\n",
        "Example\n",
        "\"\"\"\n",
        "points = sortRun([[1,2,3]], mergeSort)"
      ],
      "metadata": {
        "id": "BBdYBVBMbJRQ"
      },
      "execution_count": null,
      "outputs": []
    },
    {
      "cell_type": "markdown",
      "source": [
        "## TODO\n",
        "Run Experiments and Gather Data"
      ],
      "metadata": {
        "id": "8a-Hha_Odriz"
      }
    },
    {
      "cell_type": "markdown",
      "source": [
        "# Example data and graph"
      ],
      "metadata": {
        "id": "xfUxKNcFckDE"
      }
    },
    {
      "cell_type": "code",
      "source": [
        "points = [i+1 for i in range(10**4)]\n",
        "y_val = [i*math.log(i, 2) for i in points]\n",
        "y_val2 = [i**2 for i in points]"
      ],
      "metadata": {
        "id": "tIxxEX10bU9E"
      },
      "execution_count": null,
      "outputs": []
    },
    {
      "cell_type": "markdown",
      "source": [
        "## TODO\n",
        "\n",
        "Plot the running times of the two algorithms together with their 95% confidence intervals. You may find [this](https://en.wikipedia.org/wiki/Confidence_interval) and [this](https://matplotlib.org/stable/api/_as_gen/matplotlib.pyplot.fill_between.html) helpful.\n",
        "\n",
        "Note both curves, one for each algorithm and their confidence intervals must appear on the same plot.\n",
        "\n",
        "You may use red for Merge Sort and blue for Quick Sort. For each of these, a shaded region showing the 95% confidence interval for each of these must be filled with the same color at 50% of lower transparency."
      ],
      "metadata": {
        "id": "ID8fNz_OehVK"
      }
    },
    {
      "cell_type": "code",
      "source": [
        "plt.plot(points,y_val)\n",
        "plt.plot(points,y_val2)\n",
        "plt.show()\n"
      ],
      "metadata": {
        "colab": {
          "base_uri": "https://localhost:8080/",
          "height": 276
        },
        "id": "LbeLDbrccjgC",
        "outputId": "3c04eec8-e0f6-41a7-89c4-9ceee26ee1a8"
      },
      "execution_count": null,
      "outputs": [
        {
          "output_type": "display_data",
          "data": {
            "text/plain": [
              "<Figure size 432x288 with 1 Axes>"
            ],
            "image/png": "[encoded data removed]"
          },
          "metadata": {
            "needs_background": "light"
          }
        }
      ]
    },
    {
      "cell_type": "markdown",
      "source": [
        "## implement your functions, then plot the results"
      ],
      "metadata": {
        "id": "Mu51mdssfI86"
      }
    },
    {
      "cell_type": "code",
      "source": [],
      "metadata": {
        "id": "Oup7leq2diYZ"
      },
      "execution_count": null,
      "outputs": []
    }
  ]
}